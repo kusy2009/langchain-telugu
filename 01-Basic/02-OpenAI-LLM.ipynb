{
 "cells": [
  {
   "cell_type": "markdown",
   "metadata": {},
   "source": [
    "# OpenAI LLM మోడల్స్ ఉపయోగించడం\n",
    "\n",
    "ఈ ట్యుటోరియల్‌లో, మనం LangChain ద్వారా OpenAI LLM (Large Language Model) మోడల్స్‌ని ఎలా ఉపయోగించాలో నేర్చుకుంటాము."
   ]
  },
  {
   "cell_type": "markdown",
   "metadata": {},
   "source": [
    "## సెటప్\n",
    "\n",
    "మొదట, మనం అవసరమైన లైబ్రరీలను ఇన్‌స్టాల్ చేసుకుందాం:"
   ]
  },
  {
   "cell_type": "code",
   "execution_count": null,
   "metadata": {},
   "source": [
    "# అవసరమైన లైబ్రరీలను ఇన్‌స్టాల్ చేయడం\n",
    "!pip install langchain langchain-openai openai"
   ]
  },
  {
   "cell_type": "markdown",
   "metadata": {},
   "source": [
    "ఇప్పుడు, మనం OpenAI API కీని సెట్ చేద్దాం:"
   ]
  },
  {
   "cell_type": "code",
   "execution_count": null,
   "metadata": {},
   "source": [
    "import os\n",
    "from dotenv import load_dotenv\n",
    "\n",
    "# .env ఫైల్ నుండి API కీని లోడ్ చేయడం\n",
    "load_dotenv()\n",
    "\n",
    "# లేదా డైరెక్ట్‌గా సెట్ చేయడం (డెవలప్‌మెంట్ కోసం మాత్రమే, ప్రొడక్షన్‌లో ఉపయోగించవద్దు)\n",
    "# os.environ[\"OPENAI_API_KEY\"] = \"మీ-API-కీ-ఇక్కడ-పెట్టండి\""
   ]
  },
  {
   "cell_type": "markdown",
   "metadata": {},
   "source": [
    "## LangChain లో OpenAI మోడల్స్\n",
    "\n",
    "LangChain లో OpenAI మోడల్స్‌ని ఉపయోగించడానికి, మనం `langchain_openai` మాడ్యూల్ నుండి `ChatOpenAI` క్లాస్‌ని ఉపయోగిస్తాము."
   ]
  },
  {
   "cell_type": "code",
   "execution_count": null,
   "metadata": {},
   "source": [
    "from langchain_openai import ChatOpenAI\n",
    "\n",
    "# ChatOpenAI ఇన్‌స్టాన్స్ క్రియేట్ చేయడం\n",
    "llm = ChatOpenAI(model=\"gpt-3.5-turbo\")\n",
    "\n",
    "# సింపుల్ ప్రాంప్ట్ పంపడం\n",
    "response = llm.invoke(\"2023 IPL సీజన్‌లో చెన్నై సూపర్ కింగ్స్ ఎలా పర్ఫార్మ్ చేసింది?\")\n",
    "print(response.content)"
   ]
  },
  {
   "cell_type": "markdown",
   "metadata": {},
   "source": [
    "## వివిధ OpenAI మోడల్స్\n",
    "\n",
    "OpenAI అందించే వివిధ మోడల్స్‌ని LangChain లో ఉపయోగించవచ్చు. ప్రతి మోడల్‌కి వేర్వేరు సామర్థ్యాలు మరియు ధరలు ఉన్నాయి.\n",
    "\n",
    "### ప్రధాన OpenAI మోడల్స్:\n",
    "\n",
    "1. **GPT-3.5-turbo**: చాలా టాస్క్‌లకు బాగా పనిచేసే బ్యాలెన్స్డ్ మోడల్\n",
    "2. **GPT-4**: అత్యంత శక్తివంతమైన మోడల్, కాని ఎక్కువ ఖరీదైనది\n",
    "3. **GPT-4-turbo**: GPT-4 కంటే వేగవంతమైన వెర్షన్\n",
    "4. **GPT-4o**: GPT-4 యొక్క ఆప్టిమైజ్డ్ వెర్షన్\n",
    "\n",
    "వివిధ మోడల్స్‌ని ఎలా ఉపయోగించాలో చూద్దాం:"
   ]
  },
  {
   "cell_type": "code",
   "execution_count": null,
   "metadata": {},
   "source": [
    "# GPT-3.5-turbo\n",
    "gpt35 = ChatOpenAI(model=\"gpt-3.5-turbo\")\n",
    "\n",
    "# GPT-4 (ఎక్కువ సామర్థ్యం కలిగి ఉంటుంది, కాని ఎక్కువ ఖరీదైనది)\n",
    "gpt4 = ChatOpenAI(model=\"gpt-4\")\n",
    "\n",
    "# GPT-4-turbo\n",
    "gpt4_turbo = ChatOpenAI(model=\"gpt-4-turbo\")\n",
    "\n",
    "# ఒకే ప్రాంప్ట్‌ని వివిధ మోడల్స్‌తో ప్రయత్నించడం\n",
    "prompt = \"బాహుబలి సినిమా గురించి ఒక చిన్న సమీక్ష రాయండి.\"\n",
    "\n",
    "print(\"GPT-3.5-turbo సమాధానం:\")\n",
    "print(gpt35.invoke(prompt).content)\n",
    "print(\"\\nGPT-4 సమాధానం:\")\n",
    "print(gpt4.invoke(prompt).content)"
   ]
  },
  {
   "cell_type": "markdown",
   "metadata": {},
   "source": [
    "## మోడల్ పారామీటర్లు కస్టమైజ్ చేయడం\n",
    "\n",
    "LangChain లో OpenAI మోడల్స్‌ని ఉపయోగించేటప్పుడు, మనం వివిధ పారామీటర్లను కస్టమైజ్ చేయవచ్చు:\n",
    "\n",
    "1. **temperature**: సృజనాత్మకత లెవల్ (0 నుండి 2 వరకు, 0 అంటే తక్కువ సృజనాత్మకత, 1 లేదా అంతకంటే ఎక్కువ అంటే ఎక్కువ సృజనాత్మకత)\n",
    "2. **max_tokens**: ఔట్‌పుట్‌లో గరిష్ట టోకెన్‌ల సంఖ్య\n",
    "3. **top_p**: టోకెన్ సెలెక్షన్ ప్రాబబిలిటీ మాస్ (nucleus sampling)\n",
    "4. **presence_penalty**: కొత్త విషయాలను ప్రోత్సహించడానికి పెనాల్టీ\n",
    "5. **frequency_penalty**: పునరావృతాలను నివారించడానికి పెనాల్టీ"
   ]
  },
  {
   "cell_type": "code",
   "execution_count": null,
   "metadata": {},
   "source": [
    "# వివిధ టెంపరేచర్‌లతో మోడల్‌లను క్రియేట్ చేయడం\n",
    "creative_llm = ChatOpenAI(model=\"gpt-3.5-turbo\", temperature=1.5)  # ఎక్కువ సృజనాత్మకత\n",
    "factual_llm = ChatOpenAI(model=\"gpt-3.5-turbo\", temperature=0.2)   # తక్కువ సృజనాత్మకత, ఎక్కువ ఫాక్ట్‌బేస్డ్\n",
    "\n",
    "# ఒకే ప్రాంప్ట్‌ని వివిధ టెంపరేచర్‌లతో ప్రయత్నించడం\n",
    "prompt = \"రాజమౌళి తదుపరి సినిమా గురించి ఒక కథ రాయండి.\"\n",
    "\n",
    "print(\"ఫాక్ట్‌బేస్డ్ సమాధానం (తక్కువ టెంపరేచర్):\")\n",
    "print(factual_llm.invoke(prompt).content)\n",
    "print(\"\\nసృజనాత్మక సమాధానం (ఎక్కువ టెంపరేచర్):\")\n",
    "print(creative_llm.invoke(prompt).content)"
   ]
  },
  {
   "cell_type": "markdown",
   "metadata": {},
   "source": [
    "## స్ట్రీమింగ్ రెస్పాన్సెస్\n",
    "\n",
    "పెద్ద రెస్పాన్సెస్ కోసం, మనం స్ట్రీమింగ్‌ని ఉపయోగించవచ్చు, ఇది రెస్పాన్స్ తయారవుతున్నప్పుడే చూపిస్తుంది:"
   ]
  },
  {
   "cell_type": "code",
   "execution_count": null,
   "metadata": {},
   "source": [
    "from langchain.callbacks.streaming_stdout import StreamingStdOutCallbackHandler\n",
    "\n",
    "# స్ట్రీమింగ్ కాల్‌బ్యాక్‌తో LLM క్రియేట్ చేయడం\n",
    "streaming_llm = ChatOpenAI(\n",
    "    model=\"gpt-3.5-turbo\",\n",
    "    streaming=True,\n",
    "    callbacks=[StreamingStdOutCallbackHandler()]\n",
    ")\n",
    "\n",
    "# పెద్ద ప్రాంప్ట్‌ని ప్రయత్నించడం\n",
    "prompt = \"తెలుగు సినిమా చరిత్రలో టాప్ 10 బ్లాక్‌బస్టర్ సినిమాల గురించి వివరించండి. ప్రతి సినిమా గురించి కనీసం 2-3 వాక్యాలు రాయండి.\"\n",
    "\n",
    "# స్ట్రీమింగ్ రెస్పాన్స్\n",
    "streaming_llm.invoke(prompt)"
   ]
  },
  {
   "cell_type": "markdown",
   "metadata": {},
   "source": [
    "## చాట్ ఫార్మాట్‌లో LLM ఉపయోగించడం\n",
    "\n",
    "ChatOpenAI క్లాస్ చాట్ ఫార్మాట్‌లో మెసేజ్‌లను పంపడానికి అనుకూలంగా ఉంటుంది:"
   ]
  },
  {
   "cell_type": "code",
   "execution_count": null,
   "metadata": {},
   "source": [
    "from langchain_core.messages import HumanMessage, SystemMessage, AIMessage\n",
    "\n",
    "chat = ChatOpenAI(model=\"gpt-3.5-turbo\")\n",
    "\n",
    "messages = [\n",
    "    SystemMessage(content=\"మీరు క్రికెట్ నిపుణుడు. IPL గురించి సమాచారం అందించండి.\"),\n",
    "    HumanMessage(content=\"IPL 2023లో విజేత ఎవరు?\"),\n",
    "    AIMessage(content=\"IPL 2023 విజేత చెన్నై సూపర్ కింగ్స్ (CSK). వారు ఫైనల్‌లో గుజరాత్ టైటాన్స్‌ని ఓడించారు.\"),\n",
    "    HumanMessage(content=\"ఆ మ్యాచ్‌లో మ్యాన్ ఆఫ్ ది మ్యాచ్ ఎవరు?\")\n",
    "]\n",
    "\n",
    "response = chat.invoke(messages)\n",
    "print(response.content)"
   ]
  },
  {
   "cell_type": "markdown",
   "metadata": {},
   "source": [
    "## ఫంక్షన్ కాలింగ్\n",
    "\n",
    "OpenAI మోడల్స్ ఫంక్షన్ కాలింగ్‌ని సపోర్ట్ చేస్తాయి, ఇది LLM ని స్ట్రక్చర్డ్ ఔట్‌పుట్‌ని రిటర్న్ చేయడానికి లేదా ఎక్స్‌టర్నల్ టూల్స్‌ని కాల్ చేయడానికి అనుమతిస్తుంది:"
   ]
  },
  {
   "cell_type": "code",
   "execution_count": null,
   "metadata": {},
   "source": [
    "from langchain_core.tools import tool\n",
    "from langchain.agents import AgentExecutor, create_openai_functions_agent\n",
    "from langchain_core.prompts import ChatPromptTemplate\n",
    "\n",
    "# టూల్ డెఫినిషన్\n",
    "@tool\n",
    "def get_ipl_team_info(team_name: str) -> str:\n",
    "    \"\"\"IPL జట్టు గురించి సమాచారం పొందండి.\"\"\"\n",
    "    teams = {\n",
    "        \"సన్‌రైజర్స్ హైదరాబాద్\": \"సన్‌రైజర్స్ హైదరాబాద్ (SRH) 2016లో IPL విజేత. హోమ్ గ్రౌండ్: రాజీవ్ గాంధీ అంతర్జాతీయ స్టేడియం. కెప్టెన్: పాట్ కమిన్స్.\",\n",
    "        \"చెన్నై సూపర్ కింగ్స్\": \"చెన్నై సూపర్ కింగ్స్ (CSK) 5 సార్లు IPL విజేత (2010, 2011, 2018, 2021, 2023). కెప్టెన్: MS ధోని. హోమ్ గ్రౌండ్: చెపాక్ స్టేడియం.\",\n",
    "        \"ముంబై ఇండియన్స్\": \"ముంబై ఇండియన్స్ (MI) 5 సార్లు IPL విజేత (2013, 2015, 2017, 2019, 2020). కెప్టెన్: హార్దిక్ పాండ్యా. హోమ్ గ్రౌండ్: వాంఖడే స్టేడియం.\",\n",
    "        \"రాయల్ చాలెంజర్స్ బెంగళూరు\": \"రాయల్ చాలెంజర్స్ బెంగళూరు (RCB) ఇప్పటివరకు IPL ట్రోఫీ గెలవలేదు. కెప్టెన్: ఫాఫ్ డు ప్లెసిస్. హోమ్ గ్రౌండ్: చిన్నస్వామి స్టేడియం.\"\n",
    "    }\n",
    "    return teams.get(team_name, f\"{team_name} గురించి సమాచారం అందుబాటులో లేదు.\")\n",
    "\n",
    "# ప్రాంప్ట్ టెంప్లేట్\n",
    "prompt = ChatPromptTemplate.from_messages([\n",
    "    (\"system\", \"మీరు క్రికెట్ నిపుణుడు. యూజర్‌కి IPL గురించి సహాయం చేయండి.\"),\n",
    "    (\"human\", \"{input}\")\n",
    "])\n",
    "\n",
    "# ఏజెంట్ క్రియేట్ చేయడం\n",
    "llm = ChatOpenAI(model=\"gpt-3.5-turbo\")\n",
    "tools = [get_ipl_team_info]\n",
    "agent = create_openai_functions_agent(llm, tools, prompt)\n",
    "agent_executor = AgentExecutor(agent=agent, tools=tools, verbose=True)\n",
    "\n",
    "# ఏజెంట్‌ని ఉపయోగించడం\n",
    "agent_executor.invoke({\"input\": \"సన్‌రైజర్స్ హైదరాబాద్ గురించి చెప్పండి\"})"
   ]
  },
  {
   "cell_type": "markdown",
   "metadata": {},
   "source": [
    "## బ్యాచ్ ఇన్‌ఫరెన్స్\n",
    "\n",
    "అనేక ప్రాంప్ట్‌లను ఒకేసారి ప్రాసెస్ చేయడానికి, మనం బ్యాచ్ ఇన్‌ఫరెన్స్‌ని ఉపయోగించవచ్చు:"
   ]
  },
  {
   "cell_type": "code",
   "execution_count": null,
   "metadata": {},
   "source": [
    "# బ్యాచ్ ఇన్‌ఫరెన్స్ కోసం ప్రాంప్ట్‌లు\n",
    "prompts = [\n",
    "    \"పుష్ప సినిమా గురించి ఒక చిన్న సమీక్ష రాయండి.\",\n",
    "    \"RRR సినిమా గురించి ఒక చిన్న సమీక్ష రాయండి.\",\n",
    "    \"KGF సినిమా గురించి ఒక చిన్న సమీక్ష రాయండి.\"\n",
    "]\n",
    "\n",
    "# బ్యాచ్ ఇన్‌ఫరెన్స్ రన్ చేయడం\n",
    "llm = ChatOpenAI(model=\"gpt-3.5-turbo\")\n",
    "responses = llm.batch([prompts])\n",
    "\n",
    "# రెస్పాన్సెస్‌ని ప్రింట్ చేయడం\n",
    "for i, response in enumerate(responses):\n",
    "    print(f\"ప్రాంప్ట్ {i+1}: {prompts[i]}\")\n",
    "    print(f\"సమాధానం: {response.content}\\n\")"
   ]
  },
  {
   "cell_type": "markdown",
   "metadata": {},
   "source": [
    "## ముగింపు\n",
    "\n",
    "ఈ ట్యుటోరియల్‌లో, మనం:\n",
    "1. LangChain లో OpenAI LLM మోడల్స్‌ని ఎలా సెటప్ చేయాలో నేర్చుకున్నాము\n",
    "2. వివిధ OpenAI మోడల్స్‌ని ఎలా ఉపయోగించాలో చూశాము\n",
    "3. మోడల్ పారామీటర్లను ఎలా కస్టమైజ్ చేయాలో నేర్చుకున్నాము\n",
    "4. స్ట్రీమింగ్ రెస్పాన్సెస్‌ని ఎలా పొందాలో చూశాము\n",
    "5. చాట్ ఫార్మాట్‌లో LLM ని ఎలా ఉపయోగించాలో నేర్చుకున్నాము\n",
    "6. ఫంక్షన్ కాలింగ్‌ని ఎలా ఉపయోగించాలో చూశాము\n",
    "7. బ్యాచ్ ఇన్‌ఫరెన్స్‌ని ఎలా రన్ చేయాలో నేర్చుకున్నాము\n",
    "\n",
    "తదుపరి ట్యుటోరియల్‌లో, మనం LangChain Expression Language (LCEL) గురించి నేర్చుకుంటాము, ఇది LangChain కంపోనెంట్‌లను కలిపి పైప్‌లైన్‌లను తయారు చేయడానికి ఉపయోగపడుతుంది."
   ]
  }
 ],
 "metadata": {
  "kernelspec": {
   "display_name": "Python 3",
   "language": "python",
   "name": "python3"
  },
  "language_info": {
   "codemirror_mode": {
    "name": "ipython",
    "version": 3
   },
   "file_extension": ".py",
   "mimetype": "text/x-python",
   "name": "python",
   "nbconvert_exporter": "python",
   "pygments_lexer": "ipython3",
   "version": "3.10.12"
  }
 },
 "nbformat": 4,
 "nbformat_minor": 4
}
