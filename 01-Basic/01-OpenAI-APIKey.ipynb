{
 "cells": [
  {
   "cell_type": "markdown",
   "metadata": {},
   "source": [
    "# OpenAI API Key పొందడం మరియు సెటప్ చేయడం\n",
    "\n",
    "ఈ ట్యుటోరియల్‌లో, మనం OpenAI API కీని ఎలా పొందాలి మరియు LangChain ప్రాజెక్ట్‌లో ఎలా సెటప్ చేయాలో నేర్చుకుంటాము."
   ]
  },
  {
   "cell_type": "markdown",
   "metadata": {},
   "source": [
    "## OpenAI API కీ పొందడం\n",
    "\n",
    "OpenAI API కీని పొందడానికి, మీరు ఈ క్రింది స్టెప్స్ ఫాలో అవ్వాలి:\n",
    "\n",
    "1. [OpenAI API](https://platform.openai.com/signup) వెబ్‌సైట్‌కి వెళ్లి అకౌంట్ క్రియేట్ చేసుకోండి లేదా లాగిన్ అవ్వండి.\n",
    "2. లాగిన్ అయిన తర్వాత, [API Keys](https://platform.openai.com/account/api-keys) పేజీకి వెళ్లండి.\n",
    "3. \"Create new secret key\" బటన్‌ని క్లిక్ చేసి, మీ కీకి ఒక పేరు ఇవ్వండి (ఉదా: \"LangChain Project\").\n",
    "4. మీ API కీని సేవ్ చేసుకోండి. **గమనిక**: మీరు కీని ఒకసారి మాత్రమే చూడగలరు, కాబట్టి దాన్ని సురక్షితమైన ప్రదేశంలో సేవ్ చేసుకోండి.\n",
    "\n",
    "![OpenAI API Key Creation](images/openai_api_key.png)"
   ]
  },
  {
   "cell_type": "markdown",
   "metadata": {},
   "source": [
    "## API కీని ఎన్విరాన్మెంట్ వేరియబుల్‌గా సెట్ చేయడం\n",
    "\n",
    "LangChain తో పని చేయడానికి, మీ API కీని ఎన్విరాన్మెంట్ వేరియబుల్‌గా సెట్ చేయడం మంచి పద్ధతి. ఇది మీ కోడ్‌లో API కీని హార్డ్‌కోడ్ చేయకుండా ఉంటుంది, ఇది సెక్యూరిటీ రిస్క్.\n",
    "\n",
    "### Python లో ఎన్విరాన్మెంట్ వేరియబుల్‌ని సెట్ చేయడం"
   ]
  },
  {
   "cell_type": "code",
   "execution_count": null,
   "metadata": {},
   "source": [
    "import os\n",
    "\n",
    "# API కీని ఎన్విరాన్మెంట్ వేరియబుల్‌గా సెట్ చేయడం\n",
    "os.environ[\"OPENAI_API_KEY\"] = \"మీ-API-కీ-ఇక్కడ-పెట్టండి\"\n",
    "\n",
    "# లేదా .env ఫైల్ నుండి లోడ్ చేయడం\n",
    "from dotenv import load_dotenv\n",
    "\n",
    "load_dotenv()  # .env ఫైల్ నుండి వేరియబుల్స్ లోడ్ చేస్తుంది"
   ]
  },
  {
   "cell_type": "markdown",
   "metadata": {},
   "source": [
    "### .env ఫైల్ క్రియేట్ చేయడం\n",
    "\n",
    "మీ ప్రాజెక్ట్ రూట్ డైరెక్టరీలో `.env` ఫైల్‌ని క్రియేట్ చేసి, మీ API కీని అందులో స్టోర్ చేయవచ్చు:\n",
    "\n",
    "```\n",
    "OPENAI_API_KEY=మీ-API-కీ-ఇక్కడ-పెట్టండి\n",
    "```\n",
    "\n",
    "**గమనిక**: `.env` ఫైల్‌ని మీ గిట్ రిపోజిటరీకి కమిట్ చేయవద్దు. దీన్ని `.gitignore` ఫైల్‌లో జోడించండి."
   ]
  },
  {
   "cell_type": "markdown",
   "metadata": {},
   "source": [
    "## API కీ పని చేస్తుందో లేదో చెక్ చేయడం\n",
    "\n",
    "మీ API కీ సరిగ్గా పని చేస్తుందో లేదో చెక్ చేయడానికి, మనం OpenAI API ని ఉపయోగించి ఒక సింపుల్ రిక్వెస్ట్ పంపవచ్చు:"
   ]
  },
  {
   "cell_type": "code",
   "execution_count": null,
   "metadata": {},
   "source": [
    "from openai import OpenAI\n",
    "\n",
    "# OpenAI క్లయింట్ క్రియేట్ చేయడం\n",
    "client = OpenAI()\n",
    "\n",
    "# సింపుల్ ప్రాంప్ట్ పంపడం\n",
    "try:\n",
    "    response = client.chat.completions.create(\n",
    "        model=\"gpt-3.5-turbo\",\n",
    "        messages=[\n",
    "            {\"role\": \"system\", \"content\": \"మీరు సహాయకారి అసిస్టెంట్.\"},\n",
    "            {\"role\": \"user\", \"content\": \"IPL 2024లో సన్‌రైజర్స్ హైదరాబాద్ గురించి చెప్పండి.\"}\n",
    "        ]\n",
    "    )\n",
    "    print(response.choices[0].message.content)\n",
    "    print(\"\\nAPI కీ సరిగ్గా పని చేస్తోంది!\")\n",
    "except Exception as e:\n",
    "    print(f\"ఎర్రర్: {e}\")\n",
    "    print(\"API కీ సరిగ్గా పని చేయడం లేదు లేదా ఇంటర్నెట్ కనెక్షన్ సమస్య ఉంది.\")"
   ]
  },
  {
   "cell_type": "markdown",
   "metadata": {},
   "source": [
    "## LangChain లో OpenAI API కీని ఉపయోగించడం\n",
    "\n",
    "LangChain లో OpenAI మోడల్స్‌ని ఉపయోగించడానికి, మనం `ChatOpenAI` క్లాస్‌ని ఉపయోగిస్తాము:"
   ]
  },
  {
   "cell_type": "code",
   "execution_count": null,
   "metadata": {},
   "source": [
    "from langchain_openai import ChatOpenAI\n",
    "\n",
    "# ChatOpenAI ఇన్‌స్టాన్స్ క్రియేట్ చేయడం\n",
    "llm = ChatOpenAI(model=\"gpt-3.5-turbo\")\n",
    "\n",
    "# సింపుల్ ప్రాంప్ట్ పంపడం\n",
    "response = llm.invoke(\"తెలుగు సినిమాలలో అత్యంత ప్రజాదరణ పొందిన 5 హీరోల పేర్లు చెప్పండి.\")\n",
    "print(response.content)"
   ]
  },
  {
   "cell_type": "markdown",
   "metadata": {},
   "source": [
    "## API కీ సెక్యూరిటీ బెస్ట్ ప్రాక్టీసెస్\n",
    "\n",
    "1. **API కీని కోడ్‌లో హార్డ్‌కోడ్ చేయవద్దు**: ఎప్పుడూ ఎన్విరాన్మెంట్ వేరియబుల్స్ లేదా సెక్యూర్ కాన్ఫిగరేషన్ ఫైల్స్ ఉపయోగించండి.\n",
    "2. **API కీని పబ్లిక్ రిపోజిటరీలకు కమిట్ చేయవద్దు**: `.env` ఫైల్స్‌ని `.gitignore`లో జోడించండి.\n",
    "3. **API కీని రెగ్యులర్‌గా రోటేట్ చేయండి**: సెక్యూరిటీ కోసం API కీలను నియమిత కాలాలలో మార్చండి.\n",
    "4. **API వాడకాన్ని మానిటర్ చేయండి**: అనుమానాస్పద యాక్టివిటీ కోసం మీ OpenAI డాష్‌బోర్డ్‌లో API వాడకాన్ని తనిఖీ చేయండి.\n",
    "5. **యూసేజ్ లిమిట్స్ సెట్ చేయండి**: అనుకోని ఛార్జీలను నివారించడానికి OpenAI డాష్‌బోర్డ్‌లో యూసేజ్ లిమిట్స్‌ని సెట్ చేయండి."
   ]
  },
  {
   "cell_type": "markdown",
   "metadata": {},
   "source": [
    "## ముగింపు\n",
    "\n",
    "ఈ ట్యుటోరియల్‌లో, మనం:\n",
    "1. OpenAI API కీని ఎలా పొందాలో నేర్చుకున్నాము\n",
    "2. API కీని ఎన్విరాన్మెంట్ వేరియబుల్‌గా ఎలా సెట్ చేయాలో చూశాము\n",
    "3. API కీ పని చేస్తుందో లేదో ఎలా చెక్ చేయాలో నేర్చుకున్నాము\n",
    "4. LangChain లో OpenAI API కీని ఎలా ఉపయోగించాలో చూశాము\n",
    "5. API కీ సెక్యూరిటీ బెస్ట్ ప్రాక్టీసెస్ గురించి తెలుసుకున్నాము\n",
    "\n",
    "తదుపరి ట్యుటోరియల్‌లో, మనం OpenAI LLM మోడల్స్‌ని ఎలా ఉపయోగించాలో మరింత లోతుగా చూద్దాం."
   ]
  }
 ],
 "metadata": {
  "kernelspec": {
   "display_name": "Python 3",
   "language": "python",
   "name": "python3"
  },
  "language_info": {
   "codemirror_mode": {
    "name": "ipython",
    "version": 3
   },
   "file_extension": ".py",
   "mimetype": "text/x-python",
   "name": "python",
   "nbconvert_exporter": "python",
   "pygments_lexer": "ipython3",
   "version": "3.10.12"
  }
 },
 "nbformat": 4,
 "nbformat_minor": 4
}
