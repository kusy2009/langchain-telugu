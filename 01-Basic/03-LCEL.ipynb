{
 "cells": [
  {
   "cell_type": "markdown",
   "metadata": {},
   "source": [
    "# LangChain Expression Language (LCEL) పరిచయం\n",
    "\n",
    "ఈ ట్యుటోరియల్‌లో, మనం LangChain Expression Language (LCEL) గురించి నేర్చుకుంటాము, ఇది LangChain కంపోనెంట్‌లను కలిపి శక్తివంతమైన పైప్‌లైన్‌లను తయారు చేయడానికి ఉపయోగపడే సింటాక్స్."
   ]
  },
  {
   "cell_type": "markdown",
   "metadata": {},
   "source": [
    "## సెటప్\n",
    "\n",
    "మొదట, మనం అవసరమైన లైబ్రరీలను ఇన్‌స్టాల్ చేసుకుందాం:"
   ]
  },
  {
   "cell_type": "code",
   "execution_count": null,
   "metadata": {},
   "source": [
    "# అవసరమైన లైబ్రరీలను ఇన్‌స్టాల్ చేయడం\n",
    "!pip install langchain langchain-openai openai"
   ]
  },
  {
   "cell_type": "markdown",
   "metadata": {},
   "source": [
    "ఇప్పుడు, మనం OpenAI API కీని సెట్ చేద్దాం:"
   ]
  },
  {
   "cell_type": "code",
   "execution_count": null,
   "metadata": {},
   "source": [
    "import os\n",
    "from dotenv import load_dotenv\n",
    "\n",
    "# .env ఫైల్ నుండి API కీని లోడ్ చేయడం\n",
    "load_dotenv()\n",
    "\n",
    "# లేదా డైరెక్ట్‌గా సెట్ చేయడం (డెవలప్‌మెంట్ కోసం మాత్రమే, ప్రొడక్షన్‌లో ఉపయోగించవద్దు)\n",
    "# os.environ[\"OPENAI_API_KEY\"] = \"మీ-API-కీ-ఇక్కడ-పెట్టండి\""
   ]
  },
  {
   "cell_type": "markdown",
   "metadata": {},
   "source": [
    "## LCEL అంటే ఏమిటి?\n",
    "\n",
    "LangChain Expression Language (LCEL) అనేది LangChain కంపోనెంట్‌లను కలిపి కాంప్లెక్స్ పైప్‌లైన్‌లను తయారు చేయడానికి ఉపయోగపడే డిక్లరేటివ్ వే. ఇది Python ఆపరేటర్‌లను ఉపయోగించి LangChain కంపోనెంట్‌లను కలపడానికి అనుమతిస్తుంది, ఇది కోడ్‌ని చదవడానికి మరియు రాయడానికి సులభతరం చేస్తుంది.\n",
    "\n",
    "LCEL ప్రయోజనాలు:\n",
    "1. **సింపుల్ సింటాక్స్**: కాంప్లెక్స్ పైప్‌లైన్‌లను సింపుల్ మరియు చదవడానికి సులభమైన సింటాక్స్‌తో రాయవచ్చు\n",
    "2. **కంపోజబిలిటీ**: వివిధ కంపోనెంట్‌లను సులభంగా కలపవచ్చు\n",
    "3. **స్ట్రీమింగ్ సపోర్ట్**: ఇంటర్మీడియట్ రిజల్ట్స్‌ని స్ట్రీమ్ చేయడానికి సపోర్ట్\n",
    "4. **పారాలలైజేషన్**: కొన్ని ఆపరేషన్‌లను పారాలెల్‌గా రన్ చేయడానికి సపోర్ట్\n",
    "5. **డిబగ్గింగ్**: ఇంటర్మీడియట్ స్టెప్స్‌ని సులభంగా డిబగ్ చేయవచ్చు"
   ]
  },
  {
   "cell_type": "markdown",
   "metadata": {},
   "source": [
    "## LCEL బేసిక్స్\n",
    "\n",
    "LCEL లో, మనం `|` ఆపరేటర్‌ని ఉపయోగించి కంపోనెంట్‌లను కలుపుతాము. ఒక సింపుల్ ఉదాహరణతో ప్రారంభిద్దాం:"
   ]
  },
  {
   "cell_type": "code",
   "execution_count": null,
   "metadata": {},
   "source": [
    "from langchain_openai import ChatOpenAI\n",
    "from langchain_core.prompts import ChatPromptTemplate\n",
    "\n",
    "# ప్రాంప్ట్ టెంప్లేట్ క్రియేట్ చేయడం\n",
    "prompt = ChatPromptTemplate.from_template(\"తెలుగులో {topic} గురించి చిన్న వ్యాసం రాయండి.\")\n",
    "\n",
    "# LLM క్రియేట్ చేయడం\n",
    "llm = ChatOpenAI(model=\"gpt-3.5-turbo\")\n",
    "\n",
    "# LCEL ఉపయోగించి పైప్‌లైన్ క్రియేట్ చేయడం\n",
    "chain = prompt | llm\n",
    "\n",
    "# పైప్‌లైన్‌ని రన్ చేయడం\n",
    "response = chain.invoke({\"topic\": \"IPL క్రికెట్\"})\n",
    "print(response.content)"
   ]
  },
  {
   "cell_type": "markdown",
   "metadata": {},
   "source": [
    "పైన చూపిన ఉదాహరణలో, మనం:\n",
    "1. `ChatPromptTemplate` క్రియేట్ చేశాము\n",
    "2. `ChatOpenAI` LLM క్రియేట్ చేశాము\n",
    "3. `|` ఆపరేటర్‌ని ఉపయోగించి వాటిని కలిపాము\n",
    "4. `invoke()` మెథడ్‌ని ఉపయోగించి పైప్‌లైన్‌ని రన్ చేశాము"
   ]
  },
  {
   "cell_type": "markdown",
   "metadata": {},
   "source": [
    "## LCEL తో మల్టీ-స్టెప్ పైప్‌లైన్‌లు\n",
    "\n",
    "ఇప్పుడు, మనం మరింత కాంప్లెక్స్ పైప్‌లైన్‌ని క్రియేట్ చేద్దాం, ఇందులో అనేక స్టెప్స్ ఉంటాయి:"
   ]
  },
  {
   "cell_type": "code",
   "execution_count": null,
   "metadata": {},
   "source": [
    "from langchain_core.output_parsers import StrOutputParser\n",
    "from langchain_core.prompts import PromptTemplate\n",
    "\n",
    "# ప్రాంప్ట్ టెంప్లేట్ క్రియేట్ చేయడం\n",
    "prompt = PromptTemplate.from_template(\n",
    "    \"\"\"తెలుగు సినిమా {movie_name} గురించి ఒక సమీక్ష రాయండి. \n",
    "    ఈ క్రింది పాయింట్లు కవర్ చేయండి:\n",
    "    1. కథ సారాంశం\n",
    "    2. నటుల పనితీరు\n",
    "    3. సాంకేతిక అంశాలు (సినిమాటోగ్రఫీ, సంగీతం, ఎడిటింగ్)\n",
    "    4. మీ రేటింగ్ (10లో)\n",
    "    \"\"\"\n",
    ")\n",
    "\n",
    "# LLM క్రియేట్ చేయడం\n",
    "llm = ChatOpenAI(model=\"gpt-3.5-turbo\")\n",
    "\n",
    "# ఔట్‌పుట్ పార్సర్ క్రియేట్ చేయడం\n",
    "output_parser = StrOutputParser()\n",
    "\n",
    "# LCEL ఉపయోగించి పైప్‌లైన్ క్రియేట్ చేయడం\n",
    "chain = prompt | llm | output_parser\n",
    "\n",
    "# పైప్‌లైన్‌ని రన్ చేయడం\n",
    "response = chain.invoke({\"movie_name\": \"RRR\"})\n",
    "print(response)"
   ]
  },
  {
   "cell_type": "markdown",
   "metadata": {},
   "source": [
    "ఈ ఉదాహరణలో, మనం `StrOutputParser`ని జోడించాము, ఇది LLM ఔట్‌పుట్‌ని స్ట్రింగ్‌గా పార్స్ చేస్తుంది."
   ]
  },
  {
   "cell_type": "markdown",
   "metadata": {},
   "source": [
    "## LCEL తో బ్రాంచింగ్ మరియు మర్జింగ్\n",
    "\n",
    "LCEL మనకు బ్రాంచింగ్ మరియు మర్జింగ్ లాజిక్‌ని ఇంప్లిమెంట్ చేయడానికి అనుమతిస్తుంది:"
   ]
  },
  {
   "cell_type": "code",
   "execution_count": null,
   "metadata": {},
   "source": [
    "from langchain_core.runnables import RunnablePassthrough\n",
    "\n",
    "# ప్రాంప్ట్ టెంప్లేట్స్ క్రియేట్ చేయడం\n",
    "movie_summary_prompt = PromptTemplate.from_template(\n",
    "    \"తెలుగు సినిమా {movie_name} కథ సారాంశం రాయండి. 3-4 వాక్యాలలో సంక్షిప్తంగా రాయండి.\"\n",
    ")\n",
    "\n",
    "movie_review_prompt = PromptTemplate.from_template(\n",
    "    \"తెలుగు సినిమా {movie_name} గురించి మీ అభిప్రాయం తెలపండి. సినిమా బలాలు మరియు బలహీనతలు గురించి రాయండి.\"\n",
    ")\n",
    "\n",
    "# LLM క్రియేట్ చేయడం\n",
    "llm = ChatOpenAI(model=\"gpt-3.5-turbo\")\n",
    "\n",
    "# ఔట్‌పుట్ పార్సర్ క్రియేట్ చేయడం\n",
    "output_parser = StrOutputParser()\n",
    "\n",
    "# బ్రాంచ్ చెయిన్స్ క్రియేట్ చేయడం\n",
    "summary_chain = movie_summary_prompt | llm | output_parser\n",
    "review_chain = movie_review_prompt | llm | output_parser\n",
    "\n",
    "# ఫైనల్ ప్రాంప్ట్ టెంప్లేట్ క్రియేట్ చేయడం\n",
    "final_prompt = PromptTemplate.from_template(\n",
    "    \"\"\"తెలుగు సినిమా {movie_name} గురించి సంపూర్ణ సమీక్ష:\n",
    "    \n",
    "    కథ సారాంశం:\n",
    "    {summary}\n",
    "    \n",
    "    సమీక్ష:\n",
    "    {review}\n",
    "    \n",
    "    పై సమాచారం ఆధారంగా, ఈ సినిమాకి 10లో ఎన్ని పాయింట్లు ఇస్తారు? మీ రేటింగ్‌కి కారణాలు వివరించండి.\n",
    "    \"\"\"\n",
    ")\n",
    "\n",
    "# LCEL ఉపయోగించి కాంప్లెక్స్ పైప్‌లైన్ క్రియేట్ చేయడం\n",
    "chain = {\n",
    "    \"movie_name\": RunnablePassthrough(),\n",
    "    \"summary\": summary_chain,\n",
    "    \"review\": review_chain\n",
    "} | final_prompt | llm | output_parser\n",
    "\n",
    "# పైప్‌లైన్‌ని రన్ చేయడం\n",
    "response = chain.invoke(\"బాహుబలి\")\n",
    "print(response)"
   ]
  },
  {
   "cell_type": "markdown",
   "metadata": {},
   "source": [
    "ఈ ఉదాహరణలో, మనం:\n",
    "1. రెండు వేర్వేరు ప్రాంప్ట్ టెంప్లేట్స్ క్రియేట్ చేశాము\n",
    "2. ప్రతి ప్రాంప్ట్ కోసం వేర్వేరు చెయిన్స్ క్రియేట్ చేశాము\n",
    "3. డిక్షనరీని ఉపయోగించి వాటిని కలిపాము\n",
    "4. `RunnablePassthrough`ని ఉపయోగించి ఇన్‌పుట్‌ని పాస్ చేశాము"
   ]
  },
  {
   "cell_type": "markdown",
   "metadata": {},
   "source": [
    "## LCEL తో ఎర్రర్ హ్యాండ్లింగ్\n",
    "\n",
    "LCEL మనకు ఎర్రర్ హ్యాండ్లింగ్‌ని ఇంప్లిమెంట్ చేయడానికి కూడా అనుమతిస్తుంది:"
   ]
  },
  {
   "cell_type": "code",
   "execution_count": null,
   "metadata": {},
   "source": [
    "from langchain_core.runnables import RunnableConfig\n",
    "\n",
    "# ప్రాంప్ట్ టెంప్లేట్ క్రియేట్ చేయడం\n",
    "prompt = PromptTemplate.from_template(\n",
    "    \"తెలుగు సినిమా {movie_name} గురించి ఒక సమీక్ష రాయండి.\"\n",
    ")\n",
    "\n",
    "# LLM క్రియేట్ చేయడం\n",
    "llm = ChatOpenAI(model=\"gpt-3.5-turbo\")\n",
    "\n",
    "# LCEL ఉపయోగించి పైప్‌లైన్ క్రియేట్ చేయడం\n",
    "chain = prompt | llm | output_parser\n",
    "\n",
    "# ఎర్రర్ హ్యాండ్లింగ్‌తో పైప్‌లైన్‌ని రన్ చేయడం\n",
    "try:\n",
    "    # ఇన్వాలిడ్ ఇన్‌పుట్‌తో రన్ చేయడం\n",
    "    response = chain.invoke({\"wrong_key\": \"RRR\"})\n",
    "    print(response)\n",
    "except Exception as e:\n",
    "    print(f\"ఎర్రర్ జరిగింది: {e}\")\n",
    "    # ఫాల్‌బ్యాక్ రెస్పాన్స్\n",
    "    print(\"ఫాల్‌బ్యాక్ రెస్పాన్స్: సినిమా పేరు అందించబడలేదు. దయచేసి సరైన సినిమా పేరు అందించండి.\")"
   ]
  },
  {
   "cell_type": "markdown",
   "metadata": {},
   "source": [
    "## LCEL తో స్ట్రీమింగ్\n",
    "\n",
    "LCEL స్ట్రీమింగ్‌ని సపోర్ట్ చేస్తుంది, ఇది పెద్ద రెస్పాన్సెస్ కోసం ఉపయోగపడుతుంది:"
   ]
  },
  {
   "cell_type": "code",
   "execution_count": null,
   "metadata": {},
   "source": [
    "from langchain_core.output_parsers import StrOutputParser\n",
    "\n",
    "# ప్రాంప్ట్ టెంప్లేట్ క్రియేట్ చేయడం\n",
    "prompt = PromptTemplate.from_template(\n",
    "    \"తెలుగు సినిమా చరిత్రలో టాప్ 10 బ్లాక్‌బస్టర్ సినిమాల గురించి వివరించండి. ప్రతి సినిమా గురించి కనీసం 2-3 వాక్యాలు రాయండి.\"\n",
    ")\n",
    "\n",
    "# స్ట్రీమింగ్ LLM క్రియేట్ చేయడం\n",
    "llm = ChatOpenAI(model=\"gpt-3.5-turbo\", streaming=True)\n",
    "\n",
    "# LCEL ఉపయోగించి పైప్‌లైన్ క్రియేట్ చేయడం\n",
    "chain = prompt | llm | StrOutputParser()\n",
    "\n",
    "# స్ట్రీమింగ్‌తో పైప్‌లైన్‌ని రన్ చేయడం\n",
    "for chunk in chain.stream({}):\n",
    "    print(chunk, end=\"\", flush=True)"
   ]
  },
  {
   "cell_type": "markdown",
   "metadata": {},
   "source": [
    "## LCEL తో డిబగ్గింగ్\n",
    "\n",
    "LCEL మనకు పైప్‌లైన్‌ని డిబగ్ చేయడానికి అనుమతిస్తుంది:"
   ]
  },
  {
   "cell_type": "code",
   "execution_count": null,
   "metadata": {},
   "source": [
    "from langchain_core.runnables import RunnableConfig\n",
    "\n",
    "# ప్రాంప్ట్ టెంప్లేట్ క్రియేట్ చేయడం\n",
    "prompt = PromptTemplate.from_template(\n",
    "    \"తెలుగు క్రికెట్ ఆటగాడు {player_name} గురించి ఒక చిన్న బయోగ్రఫీ రాయండి.\"\n",
    ")\n",
    "\n",
    "# LLM క్రియేట్ చేయడం\n",
    "llm = ChatOpenAI(model=\"gpt-3.5-turbo\")\n",
    "\n",
    "# LCEL ఉపయోగించి పైప్‌లైన్ క్రియేట్ చేయడం\n",
    "chain = prompt | llm | StrOutputParser()\n",
    "\n",
    "# డిబగ్గింగ్ కాన్ఫిగరేషన్ క్రియేట్ చేయడం\n",
    "config = RunnableConfig(\n",
    "    callbacks=[],\n",
    "    verbose=True\n",
    ")\n",
    "\n",
    "# డిబగ్గింగ్‌తో పైప్‌లైన్‌ని రన్ చేయడం\n",
    "response = chain.invoke({\"player_name\": \"VVS లక్ష్మణ్\"}, config=config)\n",
    "print(response)"
   ]
  },
  {
   "cell_type": "markdown",
   "metadata": {},
   "source": [
    "## LCEL తో రియల్-వరల్డ్ ఉదాహరణ: తెలుగు న్యూస్ సమ్మరీ\n",
    "\n",
    "ఇప్పుడు, మనం LCEL ని ఉపయోగించి ఒక రియల్-వరల్డ్ ఉదాహరణను చూద్దాం: తెలుగు న్యూస్ ఆర్టికల్‌ని సమ్మరైజ్ చేయడం."
   ]
  },
  {
   "cell_type": "code",
   "execution_count": null,
   "metadata": {},
   "source": [
    "from langchain_core.prompts import PromptTemplate\n",
    "from langchain_openai import ChatOpenAI\n",
    "from langchain_core.output_parsers import StrOutputParser\n",
    "\n",
    "# తెలుగు న్యూస్ ఆర్టికల్\n",
    "telugu_news = \"\"\"\n",
    "హైదరాబాద్, మే 15: ఐపీఎల్ 2024లో సన్‌రైజర్స్ హైదరాబాద్ జట్టు అద్భుతమైన ప్రదర్శనతో అభిమానులను ఆకట్టుకుంటోంది. గత మ్యాచ్‌లో లక్నో సూపర్ జెయింట్స్‌పై 10 వికెట్ల తేడాతో ఘన విజయం సాధించిన సన్‌రైజర్స్, పాయింట్ల పట్టికలో రెండో స్థానానికి చేరుకుంది.\n",
    "\n",
    "ఈ మ్యాచ్‌లో ట్రావిస్ హెడ్ (89*) మరియు అభిషేక్ శర్మ (75*) అద్భుతమైన బ్యాటింగ్ ప్రదర్శనతో జట్టును విజయతీరాలకు చేర్చారు. లక్నో జట్టు నిర్దేశించిన 166 పరుగుల లక్ష్యాన్ని సన్‌రైజర్స్ కేవలం 9.4 ఓవర్లలోనే చేధించి, టీ20 క్రికెట్‌లో అత్యంత వేగవంతమైన చేజింగ్‌లలో ఒకటిగా నిలిచింది.\n",
    "\n",
    "బౌలింగ్‌లో భువనేశ్వర్ కుమార్ మరియు పాట్ కమిన్స్ తమ అనుభవాన్ని ప్రదర్శించగా, నటరాజన్ కీలక వికెట్లు తీశాడు. కెప్టెన్ పాట్ కమిన్స్ నాయకత్వంలో జట్టు బాగా కలిసి ఆడుతోంది.\n",
    "\n",
    "ప్లే ఆఫ్స్‌కు అర్హత సాధించిన సన్‌రైజర్స్ హైదరాబాద్, ఇప్పుడు ట్రోఫీని లక్ష్యంగా పెట్టుకుంది. 2016లో ఐపీఎల్ విజేతగా నిలిచిన సన్‌రైజర్స్, మరోసారి ఆ ఘనతను సాధించాలని లక్ష్యంగా పెట్టుకుంది.\n",
    "\"\"\"\n",
    "\n",
    "# ప్రాంప్ట్ టెంప్లేట్ క్రియేట్ చేయడం\n",
    "prompt = PromptTemplate.from_template(\n",
    "    \"\"\"కింది తెలుగు న్యూస్ ఆర్టికల్‌ని చదివి, 2-3 వాక్యాలలో సంక్షిప్తంగా సమ్మరైజ్ చేయండి:\n",
    "    \n",
    "    {news_article}\n",
    "    \n",
    "    సమ్మరీ:\n",
    "    \"\"\"\n",
    ")\n",
    "\n",
    "# LLM క్రియేట్ చేయడం\n",
    "llm = ChatOpenAI(model=\"gpt-3.5-turbo\")\n",
    "\n",
    "# LCEL ఉపయోగించి పైప్‌లైన్ క్రియేట్ చేయడం\n",
    "chain = prompt | llm | StrOutputParser()\n",
    "\n",
    "# పైప్‌లైన్‌ని రన్ చేయడం\n",
    "response = chain.invoke({\"news_article\": telugu_news})\n",
    "print(response)"
   ]
  },
  {
   "cell_type": "markdown",
   "metadata": {},
   "source": [
    "## ముగింపు\n",
    "\n",
    "ఈ ట్యుటోరియల్‌లో, మనం:\n",
    "1. LangChain Expression Language (LCEL) అంటే ఏమిటో నేర్చుకున్నాము\n",
    "2. LCEL బేసిక్స్ గురించి తెలుసుకున్నాము\n",
    "3. LCEL తో మల్టీ-స్టెప్ పైప్‌లైన్‌లను ఎలా క్రియేట్ చేయాలో చూశాము\n",
    "4. LCEL తో బ్రాంచింగ్ మరియు మర్జింగ్ ఎలా చేయాలో నేర్చుకున్నాము\n",
    "5. LCEL తో ఎర్రర్ హ్యాండ్లింగ్ ఎలా చేయాలో చూశాము\n",
    "6. LCEL తో స్ట్రీమింగ్ ఎలా ఇంప్లిమెంట్ చేయాలో నేర్చుకున్నాము\n",
    "7. LCEL తో డిబగ్గింగ్ ఎలా చేయాలో చూశాము\n",
    "8. LCEL తో రియల్-వరల్డ్ ఉదాహరణను ఇంప్లిమెంట్ చేశాము\n",
    "\n",
    "LCEL అనేది LangChain పైప్‌లైన్‌లను క్రియేట్ చేయడానికి శక్తివంతమైన మరియు ఎక్స్‌ప్రెసివ్ వే. ఇది కాంప్లెక్స్ LLM అప్లికేషన్‌లను సింపుల్ మరియు మెయింటెయిన్ చేయడానికి సులభమైన కోడ్‌తో బిల్డ్ చేయడానికి సహాయపడుతుంది.\n",
    "\n",
    "తదుపరి ట్యుటోరియల్‌లో, మనం LCEL అడ్వాన్స్డ్ ఫీచర్స్ గురించి మరింత లోతుగా చూద్దాం."
   ]
  }
 ],
 "metadata": {
  "kernelspec": {
   "display_name": "Python 3",
   "language": "python",
   "name": "python3"
  },
  "language_info": {
   "codemirror_mode": {
    "name": "ipython",
    "version": 3
   },
   "file_extension": ".py",
   "mimetype": "text/x-python",
   "name": "python",
   "nbconvert_exporter": "python",
   "pygments_lexer": "ipython3",
   "version": "3.10.12"
  }
 },
 "nbformat": 4,
 "nbformat_minor": 4
}
