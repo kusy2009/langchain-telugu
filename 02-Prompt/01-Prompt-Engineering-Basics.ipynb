{
 "cells": [
  {
   "cell_type": "markdown",
   "metadata": {},
   "source": [
    "# ప్రాంప్ట్ ఇంజినీరింగ్ బేసిక్స్\n",
    "\n",
    "ఈ ట్యుటోరియల్‌లో, మనం LangChain లో ప్రాంప్ట్ ఇంజినీరింగ్ బేసిక్స్ గురించి నేర్చుకుంటాము. ప్రాంప్ట్ ఇంజినీరింగ్ అనేది LLM (Large Language Model) నుండి మంచి ఫలితాలను పొందడానికి ప్రాంప్ట్‌లను క్రాఫ్ట్ చేయడం మరియు ఆప్టిమైజ్ చేయడం."
   ]
  },
  {
   "cell_type": "markdown",
   "metadata": {},
   "source": [
    "## సెటప్\n",
    "\n",
    "మొదట, మనం అవసరమైన లైబ్రరీలను ఇన్‌స్టాల్ చేసుకుందాం:"
   ]
  },
  {
   "cell_type": "code",
   "execution_count": null,
   "metadata": {},
   "source": [
    "# అవసరమైన లైబ్రరీలను ఇన్‌స్టాల్ చేయడం\n",
    "!pip install langchain langchain-openai openai"
   ]
  },
  {
   "cell_type": "markdown",
   "metadata": {},
   "source": [
    "ఇప్పుడు, మనం OpenAI API కీని సెట్ చేద్దాం:"
   ]
  },
  {
   "cell_type": "code",
   "execution_count": null,
   "metadata": {},
   "source": [
    "import os\n",
    "from dotenv import load_dotenv\n",
    "\n",
    "# .env ఫైల్ నుండి API కీని లోడ్ చేయడం\n",
    "load_dotenv()\n",
    "\n",
    "# లేదా డైరెక్ట్‌గా సెట్ చేయడం (డెవలప్‌మెంట్ కోసం మాత్రమే, ప్రొడక్షన్‌లో ఉపయోగించవద్దు)\n",
    "# os.environ[\"OPENAI_API_KEY\"] = \"మీ-API-కీ-ఇక్కడ-పెట్టండి\""
   ]
  },
  {
   "cell_type": "markdown",
   "metadata": {},
   "source": [
    "## ప్రాంప్ట్ ఇంజినీరింగ్ అంటే ఏమిటి?\n",
    "\n",
    "ప్రాంప్ట్ ఇంజినీరింగ్ అనేది LLM (Large Language Model) నుండి కావలసిన ఫలితాలను పొందడానికి ప్రాంప్ట్‌లను క్రాఫ్ట్ చేయడం మరియు ఆప్టిమైజ్ చేయడం. ఇది LLM ని ఎలా ఉపయోగించాలో అర్థం చేసుకోవడం మరియు దాని నుండి ఉత్తమమైన ఫలితాలను పొందడానికి ప్రాంప్ట్‌లను ఎలా రూపొందించాలో తెలుసుకోవడం.\n",
    "\n",
    "ప్రాంప్ట్ ఇంజినీరింగ్ ప్రాముఖ్యత:\n",
    "1. **నాణ్యమైన ఔట్‌పుట్**: మంచి ప్రాంప్ట్‌లు మంచి ఔట్‌పుట్‌లకు దారితీస్తాయి\n",
    "2. **కన్సిస్టెన్సీ**: ప్రాంప్ట్‌లను స్ట్రక్చర్ చేయడం ద్వారా కన్సిస్టెంట్ ఫలితాలను పొందవచ్చు\n",
    "3. **ఎఫిషియెన్సీ**: మంచి ప్రాంప్ట్‌లు టోకెన్ వాడకాన్ని తగ్గించి, ఖర్చును తగ్గిస్తాయి\n",
    "4. **కంట్రోల్**: ప్రాంప్ట్‌లను ఆప్టిమైజ్ చేయడం ద్వారా LLM బిహేవియర్‌ని కంట్రోల్ చేయవచ్చు"
   ]
  },
  {
   "cell_type": "markdown",
   "metadata": {},
   "source": [
    "## LangChain లో ప్రాంప్ట్ టెంప్లేట్స్\n",
    "\n",
    "LangChain లో, ప్రాంప్ట్ టెంప్లేట్స్ అనేవి రీయూజబుల్ ప్రాంప్ట్‌లను క్రియేట్ చేయడానికి ఉపయోగపడే కంపోనెంట్స్. ఇవి ప్రాంప్ట్‌లలో వేరియబుల్స్‌ని ఇన్‌సర్ట్ చేయడానికి అనుమతిస్తాయి.\n",
    "\n",
    "LangChain లో రెండు రకాల ప్రాంప్ట్ టెంప్లేట్స్ ఉన్నాయి:\n",
    "1. **PromptTemplate**: సాధారణ టెక్స్ట్ ప్రాంప్ట్‌ల కోసం\n",
    "2. **ChatPromptTemplate**: చాట్ మెసేజ్‌ల కోసం (సిస్టమ్, యూజర్, అసిస్టెంట్ మెసేజ్‌లు)"
   ]
  },
  {
   "cell_type": "markdown",
   "metadata": {},
   "source": [
    "### PromptTemplate\n",
    "\n",
    "మొదట, మనం `PromptTemplate` ని ఎలా ఉపయోగించాలో చూద్దాం:"
   ]
  },
  {
   "cell_type": "code",
   "execution_count": null,
   "metadata": {},
   "source": [
    "from langchain_core.prompts import PromptTemplate\n",
    "from langchain_openai import ChatOpenAI\n",
    "\n",
    "# సింపుల్ PromptTemplate క్రియేట్ చేయడం\n",
    "template = \"తెలుగులో {topic} గురించి ఒక చిన్న వ్యాసం రాయండి.\"\n",
    "prompt = PromptTemplate.from_template(template)\n",
    "\n",
    "# ప్రాంప్ట్‌ని ఫార్మాట్ చేయడం\n",
    "formatted_prompt = prompt.format(topic=\"IPL క్రికెట్\")\n",
    "print(\"ఫార్మాటెడ్ ప్రాంప్ట్:\")\n",
    "print(formatted_prompt)\n",
    "\n",
    "# LLM క్రియేట్ చేయడం\n",
    "llm = ChatOpenAI(model=\"gpt-3.5-turbo\")\n",
    "\n",
    "# ప్రాంప్ట్‌ని LLM కి పంపడం\n",
    "response = llm.invoke(formatted_prompt)\n",
    "print(\"\\nLLM రెస్పాన్స్:\")\n",
    "print(response.content)"
   ]
  },
  {
   "cell_type": "markdown",
   "metadata": {},
   "source": [
    "మనం `PromptTemplate` ని LCEL (LangChain Expression Language) తో కూడా ఉపయోగించవచ్చు:"
   ]
  },
  {
   "cell_type": "code",
   "execution_count": null,
   "metadata": {},
   "source": [
    "from langchain_core.output_parsers import StrOutputParser\n",
    "\n",
    "# LCEL తో PromptTemplate ఉపయోగించడం\n",
    "chain = prompt | llm | StrOutputParser()\n",
    "\n",
    "# చెయిన్‌ని రన్ చేయడం\n",
    "response = chain.invoke({\"topic\": \"తెలుగు సినిమా సంగీతం\"})\n",
    "print(response)"
   ]
  },
  {
   "cell_type": "markdown",
   "metadata": {},
   "source": [
    "### ChatPromptTemplate\n",
    "\n",
    "ఇప్పుడు, మనం `ChatPromptTemplate` ని ఎలా ఉపయోగించాలో చూద్దాం, ఇది చాట్ మోడల్స్‌తో ఉపయోగించడానికి ఆప్టిమైజ్ చేయబడింది:"
   ]
  },
  {
   "cell_type": "code",
   "execution_count": null,
   "metadata": {},
   "source": [
    "from langchain_core.prompts import ChatPromptTemplate\n",
    "from langchain_core.messages import SystemMessage, HumanMessage\n",
    "\n",
    "# ChatPromptTemplate క్రియేట్ చేయడం - మెథడ్ 1\n",
    "chat_prompt = ChatPromptTemplate.from_messages([\n",
    "    (\"system\", \"మీరు తెలుగు సినిమా నిపుణుడు. తెలుగు సినిమాల గురించి సమాచారం అందించండి.\"),\n",
    "    (\"human\", \"{movie_name} సినిమా గురించి చెప్పండి.\")\n",
    "])\n",
    "\n",
    "# ChatPromptTemplate క్రియేట్ చేయడం - మెథడ్ 2\n",
    "chat_prompt_2 = ChatPromptTemplate.from_messages([\n",
    "    SystemMessage(content=\"మీరు తెలుగు క్రికెట్ నిపుణుడు. తెలుగు క్రికెట్ ఆటగాళ్ల గురించి సమాచారం అందించండి.\"),\n",
    "    HumanMessage(content=\"{player_name} గురించి చెప్పండి.\")\n",
    "])\n",
    "\n",
    "# ప్రాంప్ట్‌ని ఫార్మాట్ చేయడం\n",
    "formatted_chat_prompt = chat_prompt.format(movie_name=\"బాహుబలి\")\n",
    "print(\"ఫార్మాటెడ్ చాట్ ప్రాంప్ట్:\")\n",
    "print(formatted_chat_prompt)\n",
    "\n",
    "# LLM కి పంపడం\n",
    "response = llm.invoke(formatted_chat_prompt)\n",
    "print(\"\\nLLM రెస్పాన్స్:\")\n",
    "print(response.content)\n",
    "\n",
    "# రెండవ ప్రాంప్ట్‌ని ఉపయోగించడం\n",
    "response_2 = llm.invoke(chat_prompt_2.format(player_name=\"VVS లక్ష్మణ్\"))\n",
    "print(\"\\nక్రికెట్ ప్రాంప్ట్ రెస్పాన్స్:\")\n",
    "print(response_2.content)"
   ]
  },
  {
   "cell_type": "markdown",
   "metadata": {},
   "source": [
    "## ప్రాంప్ట్ టెంప్లేట్‌లలో మల్టిపుల్ వేరియబుల్స్\n",
    "\n",
    "ప్రాంప్ట్ టెంప్లేట్‌లలో అనేక వేరియబుల్స్‌ని ఉపయోగించవచ్చు:"
   ]
  },
  {
   "cell_type": "code",
   "execution_count": null,
   "metadata": {},
   "source": [
    "# మల్టిపుల్ వేరియబుల్స్‌తో PromptTemplate\n",
    "movie_review_template = \"\"\"తెలుగు సినిమా {movie_name} గురించి ఒక సమీక్ష రాయండి. \n",
    "ఈ సినిమా {year}లో విడుదలైంది మరియు దర్శకుడు {director}. \n",
    "ఈ క్రింది పాయింట్లు కవర్ చేయండి:\n",
    "1. కథ సారాంశం\n",
    "2. నటుల పనితీరు\n",
    "3. సాంకేతిక అంశాలు (సినిమాటోగ్రఫీ, సంగీతం, ఎడిటింగ్)\n",
    "4. మీ రేటింగ్ (10లో)\n",
    "\"\"\"\n",
    "\n",
    "movie_review_prompt = PromptTemplate.from_template(movie_review_template)\n",
    "\n",
    "# ప్రాంప్ట్‌ని ఫార్మాట్ చేయడం\n",
    "formatted_movie_review = movie_review_prompt.format(\n",
    "    movie_name=\"RRR\",\n",
    "    year=\"2022\",\n",
    "    director=\"ఎస్.ఎస్. రాజమౌళి\"\n",
    ")\n",
    "\n",
    "print(\"ఫార్మాటెడ్ మూవీ రివ్యూ ప్రాంప్ట్:\")\n",
    "print(formatted_movie_review)\n",
    "\n",
    "# LLM కి పంపడం\n",
    "response = llm.invoke(formatted_movie_review)\n",
    "print(\"\\nLLM రెస్పాన్స్:\")\n",
    "print(response.content)"
   ]
  },
  {
   "cell_type": "markdown",
   "metadata": {},
   "source": [
    "## ప్రాంప్ట్ టెంప్లేట్‌లలో పార్షియల్ వేరియబుల్స్\n",
    "\n",
    "కొన్నిసార్లు, మనం కొన్ని వేరియబుల్స్‌ని ముందుగానే సెట్ చేయాలనుకుంటాము. ఇందుకోసం, మనం `partial` మెథడ్‌ని ఉపయోగించవచ్చు:"
   ]
  },
  {
   "cell_type": "code",
   "execution_count": null,
   "metadata": {},
   "source": [
    "# పార్షియల్ వేరియబుల్స్‌తో PromptTemplate\n",
    "ipl_team_template = \"\"\"IPL జట్టు {team_name} గురించి సమాచారం అందించండి.\n",
    "ఈ క్రింది పాయింట్లు కవర్ చేయండి:\n",
    "1. జట్టు చరిత్ర\n",
    "2. ప్రస్తుత కెప్టెన్ మరియు కోచ్\n",
    "3. {year} సీజన్‌లో పర్ఫార్మెన్స్\n",
    "4. ప్రధాన ఆటగాళ్లు\n",
    "\"\"\"\n",
    "\n",
    "ipl_team_prompt = PromptTemplate.from_template(ipl_team_template)\n",
    "\n",
    "# 2024 సీజన్ కోసం పార్షియల్ ప్రాంప్ట్ క్రియేట్ చేయడం\n",
    "ipl_2024_prompt = ipl_team_prompt.partial(year=\"2024\")\n",
    "\n",
    "# ఇప్పుడు, మనం కేవలం టీమ్ పేరు మాత్రమే అందించాలి\n",
    "formatted_ipl_prompt = ipl_2024_prompt.format(team_name=\"సన్‌రైజర్స్ హైదరాబాద్\")\n",
    "print(\"ఫార్మాటెడ్ IPL ప్రాంప్ట్:\")\n",
    "print(formatted_ipl_prompt)\n",
    "\n",
    "# LLM కి పంపడం\n",
    "response = llm.invoke(formatted_ipl_prompt)\n",
    "print(\"\\nLLM రెస్పాన్స్:\")\n",
    "print(response.content)"
   ]
  },
  {
   "cell_type": "markdown",
   "metadata": {},
   "source": [
    "## ప్రాంప్ట్ టెంప్లేట్‌లలో ఫิక్స్డ్ ఇన్‌పుట్ వేరియబుల్స్\n",
    "\n",
    "కొన్నిసార్లు, మనం ప్రాంప్ట్ టెంప్లేట్‌లో ఫిక్స్డ్ ఇన్‌పుట్ వేరియబుల్స్‌ని డిఫైన్ చేయాలనుకుంటాము:"
   ]
  },
  {
   "cell_type": "code",
   "execution_count": null,
   "metadata": {},
   "source": [
    "# ఫిక్స్డ్ ఇన్‌పుట్ వేరియబుల్స్‌తో PromptTemplate\n",
    "politician_template = \"\"\"తెలుగు రాజకీయ నాయకుడు {politician_name} గురించి ఒక చిన్న బయోగ్రఫీ రాయండి.\n",
    "ఈ క్రింది పాయింట్లు కవర్ చేయండి:\n",
    "1. వ్యక్తిగత జీవితం\n",
    "2. రాజకీయ కెరీర్\n",
    "3. ముఖ్యమైన విజయాలు మరియు వివాదాలు\n",
    "\"\"\"\n",
    "\n",
    "# PromptTemplate క్రియేట్ చేయడం\n",
    "politician_prompt = PromptTemplate(\n",
    "    template=politician_template,\n",
    "    input_variables=[\"politician_name\"]  # ఇన్‌పుట్ వేరియబుల్స్‌ని స్పష్టంగా డిఫైన్ చేయడం\n",
    ")\n",
    "\n",
    "# ప్రాంప్ట్‌ని ఫార్మాట్ చేయడం\n",
    "formatted_politician_prompt = politician_prompt.format(politician_name=\"చంద్రబాబు నాయుడు\")\n",
    "print(\"ఫార్మాటెడ్ పొలిటీషియన్ ప్రాంప్ట్:\")\n",
    "print(formatted_politician_prompt)\n",
    "\n",
    "# LLM కి పంపడం\n",
    "response = llm.invoke(formatted_politician_prompt)\n",
    "print(\"\\nLLM రెస్పాన్స్:\")\n",
    "print(response.content)"
   ]
  },
  {
   "cell_type": "markdown",
   "metadata": {},
   "source": [
    "## ప్రాంప్ట్ టెంప్లేట్‌లలో ఎక్సాంపుల్స్ (Few-Shot Learning)\n",
    "\n",
    "Few-shot learning అనేది LLM కి కొన్ని ఉదాహరణలను చూపించడం ద్వారా దాని పనితీరును మెరుగుపరచడం. ఇది ప్రాంప్ట్ ఇంజినీరింగ్‌లో చాలా శక్తివంతమైన టెక్నిక్:"
   ]
  },
  {
   "cell_type": "code",
   "execution_count": null,
   "metadata": {},
   "source": [
    "# Few-shot learning ఉదాహరణ\n",
    "few_shot_template = \"\"\"తెలుగు సినిమా రివ్యూలు రాయడానికి కొన్ని ఉదాహరణలు:\n",
    "\n",
    "సినిమా: బాహుబలి\n",
    "రివ్యూ: బాహుబలి అనేది ఎస్.ఎస్. రాజమౌళి దర్శకత్వంలో తెరకెక్కిన ఎపిక్ యాక్షన్ ఫిల్మ్. ఈ సినిమా అద్భుతమైన విజువల్ ఎఫెక్ట్స్, గొప్ప కథ మరియు ఆకట్టుకునే పాత్రలతో ప్రేక్షకులను ఆకట్టుకుంది. రేటింగ్: 9/10.\n",
    "\n",
    "సినిమా: అర్జున్ రెడ్డి\n",
    "రివ్యూ: అర్జున్ రెడ్డి అనేది సందీప్ రెడ్డి వంగా దర్శకత్వంలో తెరకెక్కిన ఇంటెన్స్ డ్రామా ఫిల్మ్. విజయ్ దేవరకొండ నటన అద్భుతం, కాని కథలో కొన్ని వివాదాస్పద అంశాలు ఉన్నాయి. రేటింగ్: 7/10.\n",
    "\n",
    "సినిమా: {movie_name}\n",
    "రివ్యూ:\n",
    "\"\"\"\n",
    "\n",
    "few_shot_prompt = PromptTemplate.from_template(few_shot_template)\n",
    "\n",
    "# ప్రాంప్ట్‌ని ఫార్మాట్ చేయడం\n",
    "formatted_few_shot_prompt = few_shot_prompt.format(movie_name=\"పుష్ప\")\n",
    "print(\"ఫార్మాటెడ్ Few-Shot ప్రాంప్ట్:\")\n",
    "print(formatted_few_shot_prompt)\n",
    "\n",
    "# LLM కి పంపడం\n",
    "response = llm.invoke(formatted_few_shot_prompt)\n",
    "print(\"\\nLLM రెస్పాన్స్:\")\n",
    "print(response.content)"
   ]
  },
  {
   "cell_type": "markdown",
   "metadata": {},
   "source": [
    "## FewShotPromptTemplate\n",
    "\n",
    "LangChain లో, `FewShotPromptTemplate` అనే ప్రత్యేక క్లాస్ ఉంది, ఇది few-shot learning కోసం ప్రత్యేకంగా డిజైన్ చేయబడింది:"
   ]
  },
  {
   "cell_type": "code",
   "execution_count": null,
   "metadata": {},
   "source": [
    "from langchain_core.prompts import FewShotPromptTemplate\n",
    "\n",
    "# ఎక్సాంపుల్స్ డిఫైన్ చేయడం\n",
    "examples = [\n",
    "    {\"player\": \"సచిన్ టెండూల్కర్\", \"description\": \"భారత క్రికెట్ దిగ్గజం, 'క్రికెట్ దేవుడు'గా పిలువబడే సచిన్ టెండూల్కర్ అంతర్జాతీయ క్రికెట్‌లో 100 శతకాలు చేసిన ఏకైక ఆటగాడు. అతను 200 టెస్ట్ మ్యాచ్‌లు ఆడిన మొదటి ఆటగాడు మరియు ODI క్రికెట్‌లో డబుల్ సెంచరీ చేసిన మొదటి ఆటగాడు.\"},\n",
    "    {\"player\": \"విరాట్ కోహ్లీ\", \"description\": \"భారత క్రికెట్ స్టార్ విరాట్ కోహ్లీ ప్రస్తుతం ప్రపంచంలోని అత్యుత్తమ బ్యాట్స్‌మెన్‌లలో ఒకరు. అతను అన్ని ఫార్మాట్‌లలో 70+ అంతర్జాతీయ శతకాలు చేశాడు మరియు ICC ర్యాంకింగ్‌లలో నంబర్ 1 స్థానంలో ఉన్నాడు. అతని ఫిట్‌నెస్ మరియు డెడికేషన్ యువ క్రికెటర్లకు స్ఫూర్తిదాయకం.\"},\n",
    "    {\"player\": \"VVS లక్ష్మణ్\", \"description\": \"'వెరీ వెరీ స్పెషల్' లక్ష్మణ్ తెలుగు రాష్ట్రానికి చెందిన ప్రసిద్ధ భారత క్రికెటర్. అతను 2001లో కోల్‌కతాలో ఆస్ట్రేలియాపై 281 పరుగులు చేసిన ఇన్నింగ్స్ క్రికెట్ చరిత్రలో అత్యంత గొప్ప ఇన్నింగ్స్‌లలో ఒకటిగా పరిగణించబడుతుంది. అతని రిస్ట్ వర్క్ మరియు టైమింగ్ అద్భుతమైనవి.\"}\n",
    "]\n",
    "\n",
    "# ఎక్సాంపుల్ ప్రాంప్ట్ టెంప్లేట్ డిఫైన్ చేయడం\n",
    "example_prompt = PromptTemplate(\n",
    "    input_variables=[\"player\", \"description\"],\n",
    "    template=\"ఆటగాడు: {player}\\nవివరణ: {description}\"\n",
    ")\n",
    "\n",
    "# FewShotPromptTemplate క్రియేట్ చేయడం\n",
    "few_shot_prompt = FewShotPromptTemplate(\n",
    "    examples=examples,\n",
    "    example_prompt=example_prompt,\n",
    "    prefix=\"క్రింది క్రికెట్ ఆటగాళ్ల వివరణలను చదివి, అదే స్టైల్‌లో కొత్త ఆటగాడి వివరణ రాయండి:\\n\\n\",\n",
    "    suffix=\"\\n\\nఆటగాడు: {player}\\nవివరణ:\",\n",
    "    input_variables=[\"player\"]\n",
    ")\n",
    "\n",
    "# ప్రాంప్ట్‌ని ఫార్మాట్ చేయడం\n",
    "formatted_few_shot = few_shot_prompt.format(player=\"రోహిత్ శర్మ\")\n",
    "print(\"ఫార్మాటెడ్ FewShotPromptTemplate:\")\n",
    "print(formatted_few_shot)\n",
    "\n",
    "# LLM కి పంపడం\n",
    "response = llm.invoke(formatted_few_shot)\n",
    "print(\"\\nLLM రెస్పాన్స్:\")\n",
    "print(response.content)"
   ]
  },
  {
   "cell_type": "markdown",
   "metadata": {},
   "source": [
    "## ప్రాంప్ట్ ఇంజినీరింగ్ బెస్ట్ ప్రాక్టీసెస్\n",
    "\n",
    "ఇప్పుడు, మనం కొన్ని ప్రాంప్ట్ ఇంజినీరింగ్ బెస్ట్ ప్రాక్టీసెస్‌ని చూద్దాం:"
   ]
  },
  {
   "cell_type": "markdown",
   "metadata": {},
   "source": [
    "### 1. క్లియర్ ఇన్‌స్ట్రక్షన్స్\n",
    "\n",
    "LLM కి క్లియర్ మరియు స్పెసిఫిక్ ఇన్‌స్ట్రక్షన్స్ ఇవ్వడం చాలా ముఖ్యం:"
   ]
  },
  {
   "cell_type": "code",
   "execution_count": null,
   "metadata": {},
   "source": [
    "# బ్యాడ్ ప్రాంప్ట్ (అస్పష్టమైనది)\n",
    "bad_prompt = \"తెలుగు సినిమాల గురించి చెప్పండి.\"\n",
    "\n",
    "# గుడ్ ప్రాంప్ట్ (స్పష్టమైనది)\n",
    "good_prompt = \"\"\"తెలుగు సినిమా పరిశ్రమ గురించి ఒక సంక్షిప్త వ్యాసం రాయండి. \n",
    "ఈ క్రింది పాయింట్లు కవర్ చేయండి:\n",
    "1. తెలుగు సినిమా పరిశ్రమ చరిత్ర (200-300 పదాలలో)\n",
    "2. ప్రముఖ దర్శకులు మరియు నటులు (కనీసం 5 పేర్లు)\n",
    "3. తెలుగు సినిమాలలో ప్రస్తుత ట్రెండ్స్ (100-200 పదాలలో)\n",
    "4. అంతర్జాతీయ స్థాయిలో తెలుగు సినిమాల ప్రభావం (RRR, బాహుబలి వంటి సినిమాలు)\n",
    "\n",
    "మొత్తం 600-800 పదాలలో వ్యాసం రాయండి.\n",
    "\"\"\"\n",
    "\n",
    "print(\"బ్యాడ్ ప్రాంప్ట్ రెస్పాన్స్:\")\n",
    "bad_response = llm.invoke(bad_prompt)\n",
    "print(bad_response.content)\n",
    "\n",
    "print(\"\\n\" + \"-\"*50 + \"\\n\")\n",
    "\n",
    "print(\"గుడ్ ప్రాంప్ట్ రెస్పాన్స్:\")\n",
    "good_response = llm.invoke(good_prompt)\n",
    "print(good_response.content)"
   ]
  },
  {
   "cell_type": "markdown",
   "metadata": {},
   "source": [
    "### 2. రోల్ ప్రాంప్టింగ్\n",
    "\n",
    "LLM కి ఒక నిర్దిష్ట రోల్‌ని అసైన్ చేయడం ద్వారా మెరుగైన ఫలితాలను పొందవచ్చు:"
   ]
  },
  {
   "cell_type": "code",
   "execution_count": null,
   "metadata": {},
   "source": [
    "# రోల్ లేకుండా ప్రాంప్ట్\n",
    "no_role_prompt = \"IPL క్రికెట్ గురించి ఒక వ్యాసం రాయండి.\"\n",
    "\n",
    "# రోల్‌తో ప్రాంప్ట్\n",
    "role_prompt = \"\"\"మీరు ప్రొఫెషనల్ క్రికెట్ కమెంటేటర్ మరియు స్పోర్ట్స్ జర్నలిస్ట్. \n",
    "IPL క్రికెట్ గురించి ఒక వ్యాసం రాయండి. ఈ వ్యాసంలో టెక్నికల్ అనాలిసిస్, ఆటగాళ్ల స్టాటిస్టిక్స్, మరియు IPL ప్రభావం గురించి లోతైన విశ్లేషణ ఉండాలి.\n",
    "\"\"\"\n",
    "\n",
    "print(\"రోల్ లేకుండా ప్రాంప్ట్ రెస్పాన్స్:\")\n",
    "no_role_response = llm.invoke(no_role_prompt)\n",
    "print(no_role_response.content)\n",
    "\n",
    "print(\"\\n\" + \"-\"*50 + \"\\n\")\n",
    "\n",
    "print(\"రోల్‌తో ప్రాంప్ట్ రెస్పాన్స్:\")\n",
    "role_response = llm.invoke(role_prompt)\n",
    "print(role_response.content)"
   ]
  },
  {
   "cell_type": "markdown",
   "metadata": {},
   "source": [
    "### 3. ఔట్‌పుట్ ఫార్మాట్ స్పెసిఫికేషన్\n",
    "\n",
    "LLM ఔట్‌పుట్ ఫార్మాట్‌ని స్పష్టంగా పేర్కొనడం మంచి ప్రాక్టీస్:"
   ]
  },
  {
   "cell_type": "code",
   "execution_count": null,
   "metadata": {},
   "source": [
    "# ఫార్మాట్ స్పెసిఫికేషన్ లేకుండా ప్రాంప్ట్\n",
    "no_format_prompt = \"తెలుగు సినిమాలలో టాప్ 5 హీరోలు ఎవరు?\"\n",
    "\n",
    "# ఫార్మాట్ స్పెసిఫికేషన్‌తో ప్రాంప్ట్\n",
    "format_prompt = \"\"\"తెలుగు సినిమాలలో టాప్ 5 హీరోల జాబితాను అందించండి. \n",
    "ప్రతి హీరో కోసం, ఈ క్రింది ఫార్మాట్‌లో సమాచారం అందించండి:\n",
    "\n",
    "హీరో పేరు: [పేరు]\n",
    "ప్రసిద్ధ సినిమాలు: [కనీసం 3 సినిమాలు]\n",
    "ప్రత్యేకత: [ఈ హీరో ప్రత్యేకత ఏమిటి?]\n",
    "అవార్డులు: [ముఖ్యమైన అవార్డులు]\n",
    "\n",
    "ప్రతి హీరో మధ్య ఒక ఖాళీ లైన్ ఉంచండి.\n",
    "\"\"\"\n",
    "\n",
    "print(\"ఫార్మాట్ స్పెసిఫికేషన్ లేకుండా ప్రాంప్ట్ రెస్పాన్స్:\")\n",
    "no_format_response = llm.invoke(no_format_prompt)\n",
    "print(no_format_response.content)\n",
    "\n",
    "print(\"\\n\" + \"-\"*50 + \"\\n\")\n",
    "\n",
    "print(\"ఫార్మాట్ స్పెసిఫికేషన్‌తో ప్రాంప్ట్ రెస్పాన్స్:\")\n",
    "format_response = llm.invoke(format_prompt)\n",
    "print(format_response.content)"
   ]
  },
  {
   "cell_type": "markdown",
   "metadata": {},
   "source": [
    "### 4. చెయిన్-ఆఫ్-థాట్ ప్రాంప్టింగ్\n",
    "\n",
    "చెయిన్-ఆఫ్-థాట్ ప్రాంప్టింగ్ అనేది LLM ని స్టెప్-బై-స్టెప్ ఆలోచించేలా ప్రోత్సహించడం:"
   ]
  },
  {
   "cell_type": "code",
   "execution_count": null,
   "metadata": {},
   "source": [
    "# సాధారణ ప్రాంప్ట్\n",
    "regular_prompt = \"2023 IPL సీజన్‌లో సన్‌రైజర్స్ హైదరాబాద్ పర్ఫార్మెన్స్‌ని విశ్లేషించండి.\"\n",
    "\n",
    "# చెయిన్-ఆఫ్-థాట్ ప్రాంప్ట్\n",
    "cot_prompt = \"\"\"2023 IPL సీజన్‌లో సన్‌రైజర్స్ హైదరాబాద్ పర్ఫార్మెన్స్‌ని విశ్లేషించండి. \n",
    "దయచేసి ఈ క్రింది స్టెప్స్‌ని ఫాలో అవ్వండి:\n",
    "\n",
    "1. మొదట, 2023 సీజన్‌లో సన్‌రైజర్స్ హైదరాబాద్ ఆడిన మ్యాచ్‌ల సంఖ్య మరియు విన్-లాస్ రేషియో గురించి ఆలోచించండి.\n",
    "2. తరువాత, జట్టులోని టాప్ పర్ఫార్మర్లు (బ్యాట్స్‌మెన్ మరియు బౌలర్లు) ఎవరు మరియు వారి స్టాటిస్టిక్స్ ఏమిటి?\n",
    "3. ఆ సీజన్‌లో జట్టు బలాలు మరియు బలహీనతలు ఏమిటి?\n",
    "4. ఆ సీజన్‌లో జట్టు ఎదుర్కొన్న ప్రధాన సవాళ్లు ఏమిటి?\n",
    "5. చివరగా, ఆ సీజన్‌లో జట్టు పర్ఫార్మెన్స్‌పై మీ సమగ్ర అసెస్‌మెంట్ ఏమిటి?\n",
    "\n",
    "ప్రతి స్టెప్‌ని వివరంగా వివరించండి మరియు మీ విశ్లేషణకు కారణాలు అందించండి.\n",
    "\"\"\"\n",
    "\n",
    "print(\"సాధారణ ప్రాంప్ట్ రెస్పాన్స్:\")\n",
    "regular_response = llm.invoke(regular_prompt)\n",
    "print(regular_response.content)\n",
    "\n",
    "print(\"\\n\" + \"-\"*50 + \"\\n\")\n",
    "\n",
    "print(\"చెయిన్-ఆఫ్-థాట్ ప్రాంప్ట్ రెస్పాన్స్:\")\n",
    "cot_response = llm.invoke(cot_prompt)\n",
    "print(cot_response.content)"
   ]
  },
  {
   "cell_type": "markdown",
   "metadata": {},
   "source": [
    "## ముగింపు\n",
    "\n",
    "ఈ ట్యుటోరియల్‌లో, మనం LangChain లో ప్రాంప్ట్ ఇంజినీరింగ్ బేసిక్స్ గురించి నేర్చుకున్నాము:\n",
    "\n",
    "1. ప్రాంప్ట్ ఇంజినీరింగ్ అంటే ఏమిటో మరియు దాని ప్రాముఖ్యత గురించి తెలుసుకున్నాము\n",
    "2. LangChain లో `PromptTemplate` మరియు `ChatPromptTemplate` ని ఎలా ఉపయోగించాలో నేర్చుకున్నాము\n",
    "3. ప్రాంప్ట్ టెంప్లేట్‌లలో మల్టిపుల్ వేరియబుల్స్‌ని ఎలా ఉపయోగించాలో చూశాము\n",
    "4. పార్షియల్ వేరియబుల్స్ మరియు ఫిక్స్డ్ ఇన్‌పుట్ వేరియబుల్స్‌ని ఎలా ఉపయోగించాలో నేర్చుకున్నాము\n",
    "5. Few-shot learning మరియు `FewShotPromptTemplate` ని ఎలా ఉపయోగించాలో చూశాము\n",
    "6. ప్రాంప్ట్ ఇంజినీరింగ్ బెస్ట్ ప్రాక్టీసెస్ గురించి తెలుసుకున్నాము\n",
    "\n",
    "ప్రాంప్ట్ ఇంజినీరింగ్ అనేది LLM అప్లికేషన్‌లను బిల్డ్ చేయడంలో చాలా ముఖ్యమైన స్కిల్. మంచి ప్రాంప్ట్‌లు మంచి ఫలితాలకు దారితీస్తాయి, మరియు LangChain ప్రాంప్ట్‌లను క్రియేట్ చేయడానికి మరియు మేనేజ్ చేయడానికి శక్తివంతమైన టూల్స్‌ని అందిస్తుంది.\n",
    "\n",
    "తదుపరి ట్యుటోరియల్‌లో, మనం అడ్వాన్స్డ్ ప్రాంప్ట్ ఇంజినీరింగ్ టెక్నిక్స్ గురించి నేర్చుకుంటాము."
   ]
  }
 ],
 "metadata": {
  "kernelspec": {
   "display_name": "Python 3",
   "language": "python",
   "name": "python3"
  },
  "language_info": {
   "codemirror_mode": {
    "name": "ipython",
    "version": 3
   },
   "file_extension": ".py",
   "mimetype": "text/x-python",
   "name": "python",
   "nbconvert_exporter": "python",
   "pygments_lexer": "ipython3",
   "version": "3.10.12"
  }
 },
 "nbformat": 4,
 "nbformat_minor": 4
}
